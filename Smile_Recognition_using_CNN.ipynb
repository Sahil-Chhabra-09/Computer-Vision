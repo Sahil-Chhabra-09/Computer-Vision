{
  "nbformat": 4,
  "nbformat_minor": 0,
  "metadata": {
    "colab": {
      "provenance": [],
      "mount_file_id": "1WwMusD313dozalDVyhBU0oAqOMQqBK-3",
      "authorship_tag": "ABX9TyMCP620fzlyd1rSSS54ZfWN",
      "include_colab_link": true
    },
    "kernelspec": {
      "name": "python3",
      "display_name": "Python 3"
    },
    "language_info": {
      "name": "python"
    }
  },
  "cells": [
    {
      "cell_type": "markdown",
      "metadata": {
        "id": "view-in-github",
        "colab_type": "text"
      },
      "source": [
        "<a href=\"https://colab.research.google.com/github/Sahil-Chhabra-09/Computer-Vision/blob/main/Smile_Recognition_using_CNN.ipynb\" target=\"_parent\"><img src=\"https://colab.research.google.com/assets/colab-badge.svg\" alt=\"Open In Colab\"/></a>"
      ]
    },
    {
      "cell_type": "code",
      "source": [
        "import tensorflow as tf\n",
        "from tensorflow import keras\n",
        "import keras.layers as tfl"
      ],
      "metadata": {
        "id": "B-PXpG9nSB0c"
      },
      "execution_count": 1,
      "outputs": []
    },
    {
      "cell_type": "markdown",
      "source": [
        "### Loading dataset"
      ],
      "metadata": {
        "id": "6jI9zki4WcTI"
      }
    },
    {
      "cell_type": "code",
      "source": [
        "import numpy as np\n",
        "import h5py\n",
        "\n",
        "def load_happy_dataset():\n",
        "    train_dataset = h5py.File('/content/drive/MyDrive/Happy Dataset/train_happy.h5', \"r\")\n",
        "    train_set_x_orig = np.array(train_dataset[\"train_set_x\"][:]) # your train set features\n",
        "    train_set_y_orig = np.array(train_dataset[\"train_set_y\"][:]) # your train set labels\n",
        "\n",
        "    test_dataset = h5py.File('/content/drive/MyDrive/Happy Dataset/test_happy.h5', \"r\")\n",
        "    test_set_x_orig = np.array(test_dataset[\"test_set_x\"][:]) # your test set features\n",
        "    test_set_y_orig = np.array(test_dataset[\"test_set_y\"][:]) # your test set labels\n",
        "\n",
        "    classes = np.array(test_dataset[\"list_classes\"][:]) # the list of classes\n",
        "    \n",
        "    train_set_y_orig = train_set_y_orig.reshape((1, train_set_y_orig.shape[0]))\n",
        "    test_set_y_orig = test_set_y_orig.reshape((1, test_set_y_orig.shape[0]))\n",
        "    \n",
        "    return train_set_x_orig, train_set_y_orig, test_set_x_orig, test_set_y_orig, classes\n"
      ],
      "metadata": {
        "id": "7eDPQ-aOVNVw"
      },
      "execution_count": 2,
      "outputs": []
    },
    {
      "cell_type": "code",
      "execution_count": 4,
      "metadata": {
        "id": "hjERet2GR8BD"
      },
      "outputs": [],
      "source": [
        "X_train_orig, Y_train_orig, X_test_orig, Y_test_orig, classes = load_happy_dataset()"
      ]
    },
    {
      "cell_type": "code",
      "source": [
        "X_train = X_train_orig/255.\n",
        "X_test = X_test_orig/255.\n",
        "\n",
        "# Reshape\n",
        "Y_train = Y_train_orig.T\n",
        "Y_test = Y_test_orig.T\n",
        "\n",
        "print (\"number of training examples = \" + str(X_train.shape[0]))\n",
        "print (\"number of test examples = \" + str(X_test.shape[0]))\n",
        "print (\"X_train shape: \" + str(X_train.shape))\n",
        "print (\"Y_train shape: \" + str(Y_train.shape))\n",
        "print (\"X_test shape: \" + str(X_test.shape))\n",
        "print (\"Y_test shape: \" + str(Y_test.shape))"
      ],
      "metadata": {
        "colab": {
          "base_uri": "https://localhost:8080/"
        },
        "id": "oicbpTitWg7A",
        "outputId": "6eb7bd02-3d75-4bc7-8b59-90dd4e8a5ab1"
      },
      "execution_count": 6,
      "outputs": [
        {
          "output_type": "stream",
          "name": "stdout",
          "text": [
            "number of training examples = 600\n",
            "number of test examples = 150\n",
            "X_train shape: (600, 64, 64, 3)\n",
            "Y_train shape: (600, 1)\n",
            "X_test shape: (150, 64, 64, 3)\n",
            "Y_test shape: (150, 1)\n"
          ]
        }
      ]
    },
    {
      "cell_type": "code",
      "source": [
        "import matplotlib.pyplot as plt"
      ],
      "metadata": {
        "id": "rSQdgm5sWp-X"
      },
      "execution_count": 7,
      "outputs": []
    },
    {
      "cell_type": "code",
      "source": [
        "index = 89\n",
        "plt.imshow(X_train_orig[index]) #display sample training image\n",
        "plt.show()"
      ],
      "metadata": {
        "colab": {
          "base_uri": "https://localhost:8080/",
          "height": 432
        },
        "id": "wm5jJo6KWs30",
        "outputId": "1e522e63-082d-4c12-8ba6-16991c0c1194"
      },
      "execution_count": 12,
      "outputs": [
        {
          "output_type": "display_data",
          "data": {
            "text/plain": [
              "<Figure size 640x480 with 1 Axes>"
            ],
            "image/png": "[encoded data removed]"
          },
          "metadata": {}
        }
      ]
    },
    {
      "cell_type": "markdown",
      "source": [
        "### Creating a Sequential Model"
      ],
      "metadata": {
        "id": "QnzzVvp3XFMV"
      }
    },
    {
      "cell_type": "code",
      "source": [
        "def happyModel():\n",
        "\n",
        "  model = tf.keras.Sequential([\n",
        "      ## padding with pad = 3\n",
        "      tfl.ZeroPadding2D(padding = (3, 3), input_shape = (64, 64, 3)),\n",
        "      ## convolution layer with 32 7 * 7 filters and stride of 1\n",
        "      tfl.Conv2D(filters = 32, kernel_size = (7, 7), strides = 1),\n",
        "      ## Batch Normalization for axis = 3\n",
        "      tfl.BatchNormalization(axis = 3),\n",
        "      ## Relu layer\n",
        "      tfl.ReLU(),\n",
        "      ## max pooling with default parameters of filter = 2 * 2 and stride = 2\n",
        "      tfl.MaxPooling2D(),\n",
        "      ## flatten layer\n",
        "      tfl.Flatten(),\n",
        "      ## dense layer with 1 neuron for output and sigmoid activation\n",
        "      tfl.Dense(1, activation = 'sigmoid')\n",
        "  ])\n",
        "  return model"
      ],
      "metadata": {
        "id": "63eS_BKgXHcA"
      },
      "execution_count": 14,
      "outputs": []
    },
    {
      "cell_type": "code",
      "source": [
        "happy_model = happyModel()"
      ],
      "metadata": {
        "id": "kWgl5rbNYLQT"
      },
      "execution_count": 29,
      "outputs": []
    },
    {
      "cell_type": "code",
      "source": [
        "happy_model.compile(\n",
        "    optimizer = 'adam',\n",
        "    loss = 'binary_crossentropy',\n",
        "    metrics = ['accuracy']\n",
        ")"
      ],
      "metadata": {
        "id": "zyalHLMNYSCn"
      },
      "execution_count": 30,
      "outputs": []
    },
    {
      "cell_type": "code",
      "source": [
        "happy_model.summary()"
      ],
      "metadata": {
        "colab": {
          "base_uri": "https://localhost:8080/"
        },
        "id": "Q7y44sXIYdyv",
        "outputId": "18db28c7-7514-4383-a8e3-4bc845e96b14"
      },
      "execution_count": 21,
      "outputs": [
        {
          "output_type": "stream",
          "name": "stdout",
          "text": [
            "Model: \"sequential\"\n",
            "_________________________________________________________________\n",
            " Layer (type)                Output Shape              Param #   \n",
            "=================================================================\n",
            " zero_padding2d (ZeroPadding  (None, 70, 70, 3)        0         \n",
            " 2D)                                                             \n",
            "                                                                 \n",
            " conv2d (Conv2D)             (None, 64, 64, 32)        4736      \n",
            "                                                                 \n",
            " batch_normalization (BatchN  (None, 64, 64, 32)       128       \n",
            " ormalization)                                                   \n",
            "                                                                 \n",
            " re_lu (ReLU)                (None, 64, 64, 32)        0         \n",
            "                                                                 \n",
            " max_pooling2d (MaxPooling2D  (None, 32, 32, 32)       0         \n",
            " )                                                               \n",
            "                                                                 \n",
            " flatten (Flatten)           (None, 32768)             0         \n",
            "                                                                 \n",
            " dense (Dense)               (None, 1)                 32769     \n",
            "                                                                 \n",
            "=================================================================\n",
            "Total params: 37,633\n",
            "Trainable params: 37,569\n",
            "Non-trainable params: 64\n",
            "_________________________________________________________________\n"
          ]
        }
      ]
    },
    {
      "cell_type": "markdown",
      "source": [
        "### Training and Evaluating Model"
      ],
      "metadata": {
        "id": "EJgyZNc2YlNX"
      }
    },
    {
      "cell_type": "code",
      "source": [
        "happy_model.fit(X_train, Y_train, epochs = 10, batch_size = 32)"
      ],
      "metadata": {
        "colab": {
          "base_uri": "https://localhost:8080/"
        },
        "id": "ERphdJw1Ynlc",
        "outputId": "5eb33a1b-6083-43d6-bdab-a0b23e9206b5"
      },
      "execution_count": 31,
      "outputs": [
        {
          "output_type": "stream",
          "name": "stdout",
          "text": [
            "Epoch 1/10\n",
            "19/19 [==============================] - 7s 248ms/step - loss: 1.5457 - accuracy: 0.6533\n",
            "Epoch 2/10\n",
            "19/19 [==============================] - 4s 227ms/step - loss: 0.2766 - accuracy: 0.8750\n",
            "Epoch 3/10\n",
            "19/19 [==============================] - 7s 351ms/step - loss: 0.1800 - accuracy: 0.9467\n",
            "Epoch 4/10\n",
            "19/19 [==============================] - 4s 227ms/step - loss: 0.1010 - accuracy: 0.9683\n",
            "Epoch 5/10\n",
            "19/19 [==============================] - 4s 225ms/step - loss: 0.1195 - accuracy: 0.9483\n",
            "Epoch 6/10\n",
            "19/19 [==============================] - 7s 350ms/step - loss: 0.0805 - accuracy: 0.9717\n",
            "Epoch 7/10\n",
            "19/19 [==============================] - 4s 231ms/step - loss: 0.0666 - accuracy: 0.9833\n",
            "Epoch 8/10\n",
            "19/19 [==============================] - 4s 229ms/step - loss: 0.0642 - accuracy: 0.9800\n",
            "Epoch 9/10\n",
            "19/19 [==============================] - 7s 357ms/step - loss: 0.0499 - accuracy: 0.9867\n",
            "Epoch 10/10\n",
            "19/19 [==============================] - 4s 227ms/step - loss: 0.0472 - accuracy: 0.9833\n"
          ]
        },
        {
          "output_type": "execute_result",
          "data": {
            "text/plain": [
              "<keras.callbacks.History at 0x7f45e4a5b190>"
            ]
          },
          "metadata": {},
          "execution_count": 31
        }
      ]
    },
    {
      "cell_type": "code",
      "source": [
        "happy_model.evaluate(X_test, Y_test)"
      ],
      "metadata": {
        "colab": {
          "base_uri": "https://localhost:8080/"
        },
        "id": "SiZT-pguYuYI",
        "outputId": "3fcbe8ef-e69d-4f2d-b6b2-946ef0c911c9"
      },
      "execution_count": 32,
      "outputs": [
        {
          "output_type": "stream",
          "name": "stdout",
          "text": [
            "5/5 [==============================] - 1s 101ms/step - loss: 0.3138 - accuracy: 0.8867\n"
          ]
        },
        {
          "output_type": "execute_result",
          "data": {
            "text/plain": [
              "[0.3138211965560913, 0.8866666555404663]"
            ]
          },
          "metadata": {},
          "execution_count": 32
        }
      ]
    }
  ]
}